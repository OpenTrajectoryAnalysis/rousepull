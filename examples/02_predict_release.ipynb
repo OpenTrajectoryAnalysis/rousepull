{
 "cells": [
  {
   "cell_type": "markdown",
   "metadata": {},
   "source": [
    "# Predicting locus release\n",
    "Instead of pulling a locus with a defined force and observing the resulting trajectory (as in our original publication), one might conceive an experiment displaying a \"zero-susceptibility pull\"; i.e. a strong object following a predefined path and pulling the locus with it, regardless of the force necessary to do so.\n",
    "\n",
    "As a fictional example, consider pulling literally \"by hand\", i.e. using tweezers: the pN forces exerted by the locus would do nothing to change the path taken by the tweezers, since the origin of the pulling force (your hand) overcomes these forces with ease.\n",
    "\n",
    "In a scenario like this, pulls are defined by the taken trajectory, instead of the applied force. As such, as long as locus stays attached to the pulling object, the trajectory follows the predefined path and thus does not convey much interesting information. The relevant part of the experiment is then the release/detachment and subsequent recoil of the locus.\n",
    "\n",
    "During the pull, the polymer gets stretched and thus starts generating a restoring force. Upon release, this force is free to act on the locus and thus pulls it back; the question is now whether the recoil follows the expected behavior, given the trajectory during the pull. While this is the case exactly if the inferred force during the recoil is zero, it might be useful for visualization to actually plot this expected recoil. This is demonstrated in this example."
   ]
  },
  {
   "cell_type": "code",
   "execution_count": null,
   "metadata": {},
   "outputs": [],
   "source": [
    "import numpy as np\n",
    "from matplotlib import pyplot as plt\n",
    "\n",
    "import rousepull\n",
    "\n",
    "np.random.seed(84989234)"
   ]
  },
  {
   "cell_type": "code",
   "execution_count": null,
   "metadata": {},
   "outputs": [],
   "source": [
    "x = np.concatenate([np.arange(100), 100-np.arange(100)], dtype=float)\n",
    "x += 2*np.random.normal(size=len(x))\n",
    "x -= x[0] # set equilibrium position x[0] = 0\n",
    "t = np.arange(len(x))"
   ]
  },
  {
   "cell_type": "code",
   "execution_count": null,
   "metadata": {},
   "outputs": [],
   "source": [
    "# Plot\n",
    "plt.plot(t, x)\n",
    "plt.xlabel('time [frames]')\n",
    "plt.ylabel('displacement')\n",
    "plt.title('Example data')\n",
    "plt.show()"
   ]
  },
  {
   "cell_type": "markdown",
   "metadata": {},
   "source": [
    "For this example, we imagine that the locus is pulled at constant velocity for the first 100 frames and then released. We ask whether the observed behavior after release is consistent with a free recoil under the Rouse model; in that case we would expect the polymer to exert no force on the locus after recoil."
   ]
  },
  {
   "cell_type": "code",
   "execution_count": null,
   "metadata": {},
   "outputs": [],
   "source": [
    "inf = rousepull.ForceInference(t, x)\n",
    "inf.populate()"
   ]
  },
  {
   "cell_type": "code",
   "execution_count": null,
   "metadata": {},
   "outputs": [],
   "source": [
    "# Plot\n",
    "plt.plot(t, x, label='x(t)')\n",
    "fplot = inf.fpoly[list(range(len(inf.fpoly))) + [-1]]\n",
    "plt.step(inf.tf, 3*fplot, where='post', label='f(t)') # rescale force for visualization\n",
    "plt.axhline(0, color='k', linestyle='--', zorder=0)\n",
    "\n",
    "plt.legend()\n",
    "plt.xlabel('time [frames]')\n",
    "plt.ylabel('displacement [a.u.] // force [a.u.]')\n",
    "plt.title('Example data with force inference')\n",
    "plt.show()"
   ]
  },
  {
   "cell_type": "markdown",
   "metadata": {},
   "source": [
    "The model infers a non-zero force acting on the locus after release, meaning we are manifestly not looking at a free Rouse recoil. Shortly after the release, the inferred force is still negative, and then transitions to positive. This can be interpreted as the locus recoiling too slowly initially (such that the polymer keeps pulling on it) and too fast towards the end, such that now actually the polymer (the parts that got extended during the pull) pulls it in the forward direction.\n",
    "\n",
    "How would the release look for a perfect Rouse recoil?"
   ]
  },
  {
   "cell_type": "code",
   "execution_count": null,
   "metadata": {},
   "outputs": [],
   "source": [
    "f_rouserecoil = inf.fpoly.copy()\n",
    "f_rouserecoil[100:] = 0\n",
    "x_rouserecoil = inf._generate(-f_rouserecoil)"
   ]
  },
  {
   "cell_type": "code",
   "execution_count": null,
   "metadata": {},
   "outputs": [],
   "source": [
    "# Plot\n",
    "plt.plot(t, x, label='x(t) (original)')\n",
    "fplot = inf.fpoly[list(range(len(inf.fpoly))) + [-1]]\n",
    "plt.step(inf.tf, 3*fplot, where='post', label='f(t) (original)')\n",
    "\n",
    "plt.plot(t, x_rouserecoil, label='x(t) (perfect recoil)', linewidth=2)\n",
    "fplot = f_rouserecoil[list(range(len(f_rouserecoil))) + [-1]]\n",
    "plt.step(inf.tf, 3*fplot, where='post', label='f(t) (perfect recoil)', linewidth=2)\n",
    "\n",
    "plt.axhline(0, color='k', linestyle='--', zorder=0)\n",
    "\n",
    "plt.legend()\n",
    "plt.xlabel('time [frames]')\n",
    "plt.ylabel('displacement [a.u.] // force [a.u.]')\n",
    "plt.title('Perfect recoil vs. observed')\n",
    "plt.show()"
   ]
  },
  {
   "cell_type": "markdown",
   "metadata": {},
   "source": [
    "As discussed above, the expected recoil is faster initially and slows down towards long times, quite unlike the data in this example.\n",
    "\n",
    "The key to this application of the `ForceInference` class is to realize that the mapping `x <--> f` is one-to-one (indeed it is just a linear transform, `x = M.f`, with some invertible matrix `M`): any trajectory has a unique force profile associated and vice versa. To predict the recoil, we thus simply calculate the trajectory belonging to the force profile that matches the inferred force during the pull and then drops to zero. As expected, we obtain a trajectory that reproduces exactly the observed one during the pull (where the forces also match), but then shows a different recoil behavior.\n",
    "\n",
    "The methods used to convert `x <--> f` are `ForceInference._infer()` for `x --> f` and `ForceInference._generate()` for `f --> x`.\n",
    "\n",
    "Keeping track of the correct signs can be a bit tricky here: while `ForceInference.fpoly` is the force _exerted by the polymer onto the locus_, `ForceInference._infer()` returns the force _necessary to move the locus as observed_; these differ by a minus sign (the former is the restoring force pulling the locus back, while the latter is the force pulling the locus forward and causing movement in the first place; in the overdamped limit these have to balance exactly)."
   ]
  }
 ],
 "metadata": {
  "kernelspec": {
   "display_name": "Python 3",
   "language": "python",
   "name": "python3"
  },
  "language_info": {
   "codemirror_mode": {
    "name": "ipython",
    "version": 3
   },
   "file_extension": ".py",
   "mimetype": "text/x-python",
   "name": "python",
   "nbconvert_exporter": "python",
   "pygments_lexer": "ipython3",
   "version": "3.7.3"
  }
 },
 "nbformat": 4,
 "nbformat_minor": 2
}
