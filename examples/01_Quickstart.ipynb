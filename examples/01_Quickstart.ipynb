{
 "cells": [
  {
   "cell_type": "markdown",
   "metadata": {},
   "source": [
    "# Quickstart\n",
    "This notebook is intended to quickly demonstrate some use cases for `rousepull`. The structure is as follows:\n",
    "\n",
    " - set up some dummy data; in a real application this would of course be replaced by real data\n",
    " - run inference to get a qualitative force profile\n",
    " - calibrate the inference to get quantitative results\n",
    " - apply the dragging models used in the original paper\n"
   ]
  },
  {
   "cell_type": "code",
   "execution_count": null,
   "metadata": {},
   "outputs": [],
   "source": [
    "import numpy as np\n",
    "from matplotlib import pyplot as plt\n",
    "\n",
    "import rousepull\n",
    "\n",
    "np.random.seed(18673550)"
   ]
  },
  {
   "cell_type": "markdown",
   "metadata": {},
   "source": [
    "## Generate dummy data"
   ]
  },
  {
   "cell_type": "code",
   "execution_count": null,
   "metadata": {},
   "outputs": [],
   "source": [
    "t = np.arange(10)           # equally spaced frame numbers\n",
    "t = np.delete(t, [3, 7])    # remove some frames for illustration\n",
    "                            # Note: the data (`x` below) should not contain np.nan;\n",
    "                            # just remove the corresponding entry instead\n",
    "        \n",
    "x = np.sqrt(t)                         # for constant force we expect x ~ √t\n",
    "x += 0.2*np.random.normal(size=len(x)) # add some noise\n",
    "x -= x[0]                              # for visualization it is nice to have x[0] = 0\n",
    "                                       # (this is not required for the inference)\n",
    "\n",
    "# Plot\n",
    "plt.plot(t, x, marker='x')\n",
    "plt.xlabel('time [frames]')\n",
    "plt.ylabel('displacement [a.u.]')\n",
    "plt.title('Dummy data')\n",
    "plt.show()"
   ]
  },
  {
   "cell_type": "markdown",
   "metadata": {},
   "source": [
    "## Run inference"
   ]
  },
  {
   "cell_type": "code",
   "execution_count": null,
   "metadata": {},
   "outputs": [],
   "source": [
    "inf = rousepull.ForceInference(t, x) # set up inference object\n",
    "inf.populate()                       # run the inference\n",
    "                                     # the inferred force profile is now stored in inf.fpoly\n",
    "\n",
    "# Plot\n",
    "plt.plot(t, x, marker='x', label='x(t)')              # plot input trajectory\n",
    "fplot = inf.fpoly[list(range(len(inf.fpoly))) + [-1]] # duplicate last element for plotting\n",
    "plt.step(inf.tf, fplot, where='post', label='f(t)')   # plot inferred force profile\n",
    "\n",
    "plt.legend()\n",
    "plt.xlabel('time [frames]')\n",
    "plt.ylabel('displacement [a.u.] // force [a.u.]')\n",
    "plt.title('Dummy data with inference')\n",
    "plt.show()"
   ]
  },
  {
   "cell_type": "markdown",
   "metadata": {},
   "source": [
    "Notes:\n",
    "\n",
    " - the inferred force is negative, since this is the restoring force exerted by the polymer on the locus.\n",
    " - the plot shows how the inference works with the discretization inherent to the data: the force is assumed to be constant between measurements, and identically equal to zero before the first one.\n",
    " - overall, the inference shows a constant force of about -1, consistent with how the dummy data were generated (x = √t + noise)."
   ]
  },
  {
   "cell_type": "markdown",
   "metadata": {},
   "source": [
    "## Calibration\n",
    "To make the force inference quantitative, we need to calibrate the conversion factor between time and length scales (note that above we wrote `x(t) = √t`, which of course does not make sense in physical units). To that end, we use the MSD prefactor from the force free situation.\n",
    "\n",
    "In the absence of pulling force, the locus under consideration should undergo Rouse diffusion, i.e. exhibit an MSD `⟨x²(t)⟩ = Γ√t`. We can use this prefactor `Γ` to calibrate the inference; it is simply passed as parameter to the constructor.\n",
    "\n",
    "For this example, let's assume that the lag time between successive frames is 10s, and the locus moves with Γ = 0.003 μm²/√s in the absence of force, while the measured displacement `x(t)` is in μm already. The inference then gives the force profile in pN:"
   ]
  },
  {
   "cell_type": "code",
   "execution_count": null,
   "metadata": {},
   "outputs": [],
   "source": [
    "dt = 10       # sec / frame\n",
    "Gamma = 0.003 # μm² / √s\n",
    "\n",
    "inf = rousepull.ForceInference(t*dt,        # time is now in seconds\n",
    "                               x,           # μm\n",
    "                               Gamma=Gamma, # μm² / √s\n",
    "                              )\n",
    "inf.populate()\n",
    "\n",
    "# Plot\n",
    "plt.plot(inf.t, inf.x, marker='x', label='x(t) [μm]')\n",
    "fplot = inf.fpoly[list(range(len(inf.fpoly))) + [-1]]\n",
    "plt.step(inf.tf, fplot, where='post', label='f(t) [pN]')\n",
    "\n",
    "plt.legend()\n",
    "plt.xlabel('time [sec]')\n",
    "plt.ylabel('displacement [μm] // force [pN]')\n",
    "plt.title('Dummy data with inference, calibrated')\n",
    "plt.show()"
   ]
  },
  {
   "cell_type": "markdown",
   "metadata": {},
   "source": [
    "## Dragging surrounding material\n",
    "In the [original publication](https://doi.org/10.1126/science.abi9810) we inserted additional hindrance to the locus motion due to dragging surrounding material. This can work in a few different ways, for this example let us assume that some of the chromatin the locus moves through sticks to it. This generates an additional force component, that can be calculated using the `computeFdrag()` function."
   ]
  },
  {
   "cell_type": "code",
   "execution_count": null,
   "metadata": {},
   "outputs": [],
   "source": [
    "# using the inference object inf from previous example\n",
    "inf.computeFdrag(density=0.2*np.ones(len(inf.t)), # attachment parameter; can be different along the\n",
    "                                                  # trajectory, e.g. proportional to observed DNA density\n",
    "                 mode=0,                          # which dragging model to use; see docstring\n",
    "                )\n",
    "\n",
    "# Plotting\n",
    "plt.plot(inf.t, inf.x, marker='x', label='x(t) [μm]')\n",
    "fplot = inf.fpoly[list(range(len(inf.fpoly))) + [-1]]\n",
    "plt.step(inf.tf, fplot, where='post', label='polymer force [pN]')\n",
    "fplot = inf.fdrag[list(range(len(inf.fdrag))) + [-1]]\n",
    "plt.step(inf.tf, fplot, where='post', label='dragging force [pN]')\n",
    "fplot = inf.fpoly + inf.fdrag\n",
    "fplot = fplot[list(range(len(fplot))) + [-1]]\n",
    "plt.step(inf.tf, fplot, where='post', label='total force [pN]')\n",
    "\n",
    "plt.legend()\n",
    "plt.xlabel('time [sec]')\n",
    "plt.ylabel('displacement [μm] // force [pN]')\n",
    "plt.title('Dummy data with inference + dragging, calibrated')\n",
    "plt.show()"
   ]
  },
  {
   "cell_type": "markdown",
   "metadata": {},
   "source": [
    "To interpret this plot, remember that we observe the blue trajectory and then ask what force would be necessary to move the locus as observed. Since we work in the overdamped limit, the total force pulling the locus forward has to exactly compensate the different restoring components. These restoring forces can be due to\n",
    "\n",
    " - viscous friction, i.e. proportional to locus velocity (not shown, since we usually find this component to be negligible)\n",
    " - the polymer pulling the locus back (orange)\n",
    " - surrounding chromatin sticking to the locus as it moves (green)\n",
    " \n",
    "So if there is sticky chromatin, the total force needed (red) to move the locus as observed (blue) is larger than without this additional hindrance (orange)."
   ]
  }
 ],
 "metadata": {
  "kernelspec": {
   "display_name": "Python 3",
   "language": "python",
   "name": "python3"
  },
  "language_info": {
   "codemirror_mode": {
    "name": "ipython",
    "version": 3
   },
   "file_extension": ".py",
   "mimetype": "text/x-python",
   "name": "python",
   "nbconvert_exporter": "python",
   "pygments_lexer": "ipython3",
   "version": "3.7.3"
  }
 },
 "nbformat": 4,
 "nbformat_minor": 2
}
